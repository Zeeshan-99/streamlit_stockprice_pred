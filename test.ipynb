{
 "cells": [
  {
   "cell_type": "code",
   "execution_count": 2,
   "metadata": {},
   "outputs": [],
   "source": []
  },
  {
   "cell_type": "code",
   "execution_count": null,
   "metadata": {},
   "outputs": [],
   "source": [
    "url1=\"https://www.google.com/finance/quote/INFY:NSE?sa=X&ved=2ahUKEwjS-o_g2aeEAxVAxjgGHbbCCR4Q3ecFegQIHRAf\""
   ]
  },
  {
   "cell_type": "code",
   "execution_count": 22,
   "metadata": {},
   "outputs": [
    {
     "name": "stdout",
     "output_type": "stream",
     "text": [
      "1673.9\n",
      "1673.55\n",
      "1674.4\n",
      "1673.95\n",
      "1673.55\n",
      "1673.85\n",
      "1673.8\n",
      "1673.75\n"
     ]
    },
    {
     "ename": "KeyboardInterrupt",
     "evalue": "",
     "output_type": "error",
     "traceback": [
      "\u001b[1;31m---------------------------------------------------------------------------\u001b[0m",
      "\u001b[1;31mKeyboardInterrupt\u001b[0m                         Traceback (most recent call last)",
      "Cell \u001b[1;32mIn[22], line 10\u001b[0m\n\u001b[0;32m      8\u001b[0m price\u001b[38;5;241m=\u001b[39m\u001b[38;5;28mfloat\u001b[39m(soup\u001b[38;5;241m.\u001b[39mfind(class_\u001b[38;5;241m=\u001b[39m class1)\u001b[38;5;241m.\u001b[39mtext\u001b[38;5;241m.\u001b[39mstrip()[\u001b[38;5;241m1\u001b[39m:]\u001b[38;5;241m.\u001b[39mreplace(\u001b[38;5;124m\"\u001b[39m\u001b[38;5;124m,\u001b[39m\u001b[38;5;124m\"\u001b[39m,\u001b[38;5;124m\"\u001b[39m\u001b[38;5;124m\"\u001b[39m))\n\u001b[0;32m      9\u001b[0m \u001b[38;5;28mprint\u001b[39m(price)\n\u001b[1;32m---> 10\u001b[0m time\u001b[38;5;241m.\u001b[39msleep(\u001b[38;5;241m10\u001b[39m)\n",
      "\u001b[1;31mKeyboardInterrupt\u001b[0m: "
     ]
    }
   ],
   "source": [
    "import requests\n",
    "from bs4 import BeautifulSoup\n",
    "import time\n",
    "\n",
    "ticker='INFY'\n",
    "url=f\"https://www.google.com/finance/quote/{ticker}:NSE\"\n",
    "\n",
    "for i in range(1000000000):\n",
    "    response = requests.get(url)\n",
    "    soup= BeautifulSoup(response.text, 'html.parser')\n",
    "    class1 = \"YMlKec fxKbKc\"\n",
    "    price=float(soup.find(class_= class1).text.strip()[1:].replace(\",\",\"\"))\n",
    "    print(price)\n",
    "    time.sleep(10)"
   ]
  },
  {
   "cell_type": "code",
   "execution_count": 15,
   "metadata": {},
   "outputs": [],
   "source": [
    "# soup"
   ]
  },
  {
   "cell_type": "code",
   "execution_count": 1,
   "metadata": {},
   "outputs": [
    {
     "name": "stdout",
     "output_type": "stream",
     "text": [
      "['NIFTY_50', 'SENSEX', 'NIFTY_BANK', 'NIFTY_IT', 'BSE-SMLCAP', 'HSI', 'BSE', 'IX0001', 'RELIANCE', 'KOSPI', 'DAX', 'EICHERMOT', 'EICHERMOT', 'ZOMATO', 'ZOMATO', 'BHARTIARTL', 'BHARTIARTL', 'HD', 'HD', 'BHARTIHEXA', 'BHARTIHEXA', 'PFC', 'PFC', 'RELIANCE', 'SBIN', 'YESBANK', 'TATAMOTORS', 'INFY', 'TCS', 'SENSEX', 'NIFTY_50', 'DAX', 'KOSPI', 'HSI', '.DJI', 'IX0001', '.INX', 'BSE', 'RELIANCE', 'SBIN', 'YESBANK', 'ITC', '.IXIC', 'FRETAIL', 'M&M', 'IDEA', 'NS']\n"
     ]
    }
   ],
   "source": [
    "import requests\n",
    "from bs4 import BeautifulSoup\n",
    "\n",
    "def get_google_finance_tickers():\n",
    "    tickers = []\n",
    "    url = \"https://www.google.com/finance\"\n",
    "    response = requests.get(url)\n",
    "    if response.status_code == 200:\n",
    "        soup = BeautifulSoup(response.content, 'html.parser')\n",
    "        for link in soup.find_all('a'):\n",
    "            href = link.get('href')\n",
    "            if href and \"/quote/\" in href:\n",
    "                ticker = href.split(\"/quote/\")[1].split(\":\")[0]\n",
    "                tickers.append(ticker)\n",
    "    return tickers\n",
    "\n",
    "# Get ticker list from Google Finance\n",
    "tickers = get_google_finance_tickers()\n",
    "\n",
    "# Print the list of tickers\n",
    "print(tickers)\n"
   ]
  },
  {
   "cell_type": "code",
   "execution_count": 2,
   "metadata": {},
   "outputs": [
    {
     "data": {
      "text/plain": [
       "['NIFTY_50',\n",
       " 'SENSEX',\n",
       " 'NIFTY_BANK',\n",
       " 'NIFTY_IT',\n",
       " 'BSE-SMLCAP',\n",
       " 'HSI',\n",
       " 'BSE',\n",
       " 'IX0001',\n",
       " 'RELIANCE',\n",
       " 'KOSPI',\n",
       " 'DAX',\n",
       " 'EICHERMOT',\n",
       " 'EICHERMOT',\n",
       " 'ZOMATO',\n",
       " 'ZOMATO',\n",
       " 'BHARTIARTL',\n",
       " 'BHARTIARTL',\n",
       " 'HD',\n",
       " 'HD',\n",
       " 'BHARTIHEXA',\n",
       " 'BHARTIHEXA',\n",
       " 'PFC',\n",
       " 'PFC',\n",
       " 'RELIANCE',\n",
       " 'SBIN',\n",
       " 'YESBANK',\n",
       " 'TATAMOTORS',\n",
       " 'INFY',\n",
       " 'TCS',\n",
       " 'SENSEX',\n",
       " 'NIFTY_50',\n",
       " 'DAX',\n",
       " 'KOSPI',\n",
       " 'HSI',\n",
       " '.DJI',\n",
       " 'IX0001',\n",
       " '.INX',\n",
       " 'BSE',\n",
       " 'RELIANCE',\n",
       " 'SBIN',\n",
       " 'YESBANK',\n",
       " 'ITC',\n",
       " '.IXIC',\n",
       " 'FRETAIL',\n",
       " 'M&M',\n",
       " 'IDEA',\n",
       " 'NS']"
      ]
     },
     "execution_count": 2,
     "metadata": {},
     "output_type": "execute_result"
    }
   ],
   "source": [
    "tickers"
   ]
  },
  {
   "cell_type": "code",
   "execution_count": null,
   "metadata": {},
   "outputs": [],
   "source": []
  },
  {
   "cell_type": "code",
   "execution_count": null,
   "metadata": {},
   "outputs": [],
   "source": []
  },
  {
   "cell_type": "code",
   "execution_count": null,
   "metadata": {},
   "outputs": [],
   "source": []
  },
  {
   "cell_type": "code",
   "execution_count": null,
   "metadata": {},
   "outputs": [],
   "source": []
  },
  {
   "cell_type": "code",
   "execution_count": null,
   "metadata": {},
   "outputs": [],
   "source": []
  },
  {
   "cell_type": "code",
   "execution_count": null,
   "metadata": {},
   "outputs": [],
   "source": []
  }
 ],
 "metadata": {
  "kernelspec": {
   "display_name": "streamlit_new_2",
   "language": "python",
   "name": "python3"
  },
  "language_info": {
   "codemirror_mode": {
    "name": "ipython",
    "version": 3
   },
   "file_extension": ".py",
   "mimetype": "text/x-python",
   "name": "python",
   "nbconvert_exporter": "python",
   "pygments_lexer": "ipython3",
   "version": "3.9.18"
  }
 },
 "nbformat": 4,
 "nbformat_minor": 2
}
